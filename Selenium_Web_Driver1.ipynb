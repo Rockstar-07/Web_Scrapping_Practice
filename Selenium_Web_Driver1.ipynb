{
 "cells": [
  {
   "cell_type": "markdown",
   "id": "responsible-authority",
   "metadata": {},
   "source": [
    "# Implementation of Image Web Scraping using Selenium Python\n",
    "# Step1. Import all required libraries"
   ]
  },
  {
   "cell_type": "code",
   "execution_count": 1,
   "id": "surrounded-sacrifice",
   "metadata": {},
   "outputs": [],
   "source": [
    "#!pip install webdriver_manager\n",
    "#!pip install pillow\n",
    "\n",
    "\n",
    "import os\n",
    "import selenium\n",
    "from selenium import webdriver\n",
    "import time\n",
    "from PIL import Image\n",
    "import io\n",
    "import requests\n",
    "from webdriver_manager.chrome import ChromeDriverManager\n",
    "from selenium.common.exceptions import ElementClickInterceptedException\n"
   ]
  },
  {
   "cell_type": "markdown",
   "id": "hybrid-textbook",
   "metadata": {},
   "source": [
    "# Step2. Install Chrome Driver"
   ]
  },
  {
   "cell_type": "code",
   "execution_count": 2,
   "id": "metric-sarah",
   "metadata": {
    "scrolled": true
   },
   "outputs": [
    {
     "name": "stderr",
     "output_type": "stream",
     "text": [
      "[WDM] - ====== WebDriver manager ======\n",
      "[WDM] - Current google-chrome version is 89.0.4389\n"
     ]
    },
    {
     "name": "stdout",
     "output_type": "stream",
     "text": [
      "\n",
      "\n"
     ]
    },
    {
     "name": "stderr",
     "output_type": "stream",
     "text": [
      "[WDM] - Get LATEST driver version for 89.0.4389\n",
      "[WDM] - There is no [win32] chromedriver for browser 89.0.4389 in cache\n",
      "[WDM] - Get LATEST driver version for 89.0.4389\n",
      "[WDM] - Trying to download new driver from https://chromedriver.storage.googleapis.com/89.0.4389.23/chromedriver_win32.zip\n",
      "[WDM] - Driver has been saved in cache [C:\\Users\\HP\\.wdm\\drivers\\chromedriver\\win32\\89.0.4389.23]\n"
     ]
    }
   ],
   "source": [
    "driver = webdriver.Chrome(ChromeDriverManager().install())"
   ]
  },
  {
   "cell_type": "markdown",
   "id": "naked-catalog",
   "metadata": {},
   "source": [
    "# Step3. Specify Search url"
   ]
  },
  {
   "cell_type": "code",
   "execution_count": 3,
   "id": "marked-ethnic",
   "metadata": {},
   "outputs": [],
   "source": [
    "search_url = \"https://www.google.com/search?q={q}&tbm=isch&tbs=sur%3Afc&hl=en&ved=0CAIQpwVqFwoTCKCa1c6s4-oCFQAAAAAdAAAAABAC&biw=1251&bih=568\"\n",
    "driver.get(search_url.format(q='Car'))\n"
   ]
  },
  {
   "cell_type": "markdown",
   "id": "historic-pixel",
   "metadata": {},
   "source": [
    "# Step4. Scroll to the end of the page"
   ]
  },
  {
   "cell_type": "code",
   "execution_count": 4,
   "id": "indirect-fisher",
   "metadata": {},
   "outputs": [],
   "source": [
    "driver.execute_script(\"window.scrollTo(0, document.body.scrollHeight);\")\n",
    "time.sleep(5)#sleep_between_interactions  \n"
   ]
  },
  {
   "cell_type": "markdown",
   "id": "responsible-richardson",
   "metadata": {},
   "source": [
    "# Step5. Locate the images to be scraped from the page"
   ]
  },
  {
   "cell_type": "code",
   "execution_count": 5,
   "id": "individual-clarity",
   "metadata": {},
   "outputs": [
    {
     "data": {
      "text/plain": [
       "100"
      ]
     },
     "execution_count": 5,
     "metadata": {},
     "output_type": "execute_result"
    }
   ],
   "source": [
    "imgResults = driver.find_elements_by_xpath(\"//img[contains(@class,'Q4LuWd')]\")\n",
    "totalResults=len(imgResults)\n",
    "totalResults"
   ]
  },
  {
   "cell_type": "markdown",
   "id": "printable-sleeping",
   "metadata": {},
   "source": [
    "# Step6. Extract corresponding link of each Image"
   ]
  },
  {
   "cell_type": "code",
   "execution_count": 6,
   "id": "toxic-graph",
   "metadata": {
    "scrolled": true
   },
   "outputs": [
    {
     "name": "stdout",
     "output_type": "stream",
     "text": [
      "Message: element click intercepted: Element is not clickable at point (261, 657)\n",
      "  (Session info: chrome=89.0.4389.82)\n",
      "\n"
     ]
    }
   ],
   "source": [
    "# Click on each Image to extract its corresponding link to download\n",
    "img_urls = set()\n",
    "for i in  range(len(imgResults)):\n",
    "    img=imgResults[i]\n",
    "    try:\n",
    "        img.click()\n",
    "        time.sleep(0.9)\n",
    "        actual_images = driver.find_elements_by_css_selector('img.n3VNCb')\n",
    "        for actual_image in actual_images:\n",
    "            if actual_image.get_attribute('src') and 'https' in actual_image.get_attribute('src'):\n",
    "                img_urls.add(actual_image.get_attribute('src'))\n",
    "    except ElementClickInterceptedException or ElementNotInteractableException as err:\n",
    "        print(err)"
   ]
  },
  {
   "cell_type": "markdown",
   "id": "familiar-claim",
   "metadata": {},
   "source": [
    "# Step7. Download & save each image in Destination directory"
   ]
  },
  {
   "cell_type": "code",
   "execution_count": 7,
   "id": "frequent-cloud",
   "metadata": {
    "scrolled": true
   },
   "outputs": [
    {
     "name": "stdout",
     "output_type": "stream",
     "text": [
      "SAVED - https://encrypted-tbn0.gstatic.com/images?q=tbn:ANd9GcQtUasZg_xXec2B5NkNy6qdmdZh1ssdxyBWDQ&usqp=CAU - AT: E:\\practice\\Python\\Web_Scrapping\\Dataset1\\                                                                                                                                                     0.jpg\n",
      "SAVED - https://encrypted-tbn0.gstatic.com/images?q=tbn:ANd9GcRavyM0JR1sM2j8rXHL-_taqo9_hS-wBOxa7Q&usqp=CAU - AT: E:\\practice\\Python\\Web_Scrapping\\Dataset1\\                                                                                                                                                     1.jpg\n",
      "SAVED - https://encrypted-tbn0.gstatic.com/images?q=tbn:ANd9GcR3Mo2Q-UBmHeLTpQFwYKWlsuI6tKRbnTFAiA&usqp=CAU - AT: E:\\practice\\Python\\Web_Scrapping\\Dataset1\\                                                                                                                                                     2.jpg\n",
      "SAVED - https://encrypted-tbn0.gstatic.com/images?q=tbn:ANd9GcSaFAyc9ZDpmGpPceLm6wXbR1X1To17Cgrkjw&usqp=CAU - AT: E:\\practice\\Python\\Web_Scrapping\\Dataset1\\                                                                                                                                                     3.jpg\n",
      "SAVED - https://encrypted-tbn0.gstatic.com/images?q=tbn:ANd9GcQrXffZein5nJt29BkaeVC-50iu4pP642x4gw&usqp=CAU - AT: E:\\practice\\Python\\Web_Scrapping\\Dataset1\\                                                                                                                                                     4.jpg\n",
      "SAVED - https://encrypted-tbn0.gstatic.com/images?q=tbn:ANd9GcTrG6JR1G5TuoTx2mKMZR2hrGlNZXlo_NO1Pw&usqp=CAU - AT: E:\\practice\\Python\\Web_Scrapping\\Dataset1\\                                                                                                                                                     5.jpg\n",
      "SAVED - https://encrypted-tbn0.gstatic.com/images?q=tbn:ANd9GcR4NfyHs-WKQa7O5Vmn4ByByZXRIsxwv6jDuQ&usqp=CAU - AT: E:\\practice\\Python\\Web_Scrapping\\Dataset1\\                                                                                                                                                     6.jpg\n",
      "SAVED - https://encrypted-tbn0.gstatic.com/images?q=tbn:ANd9GcRYuD_DgTWIgc8uFlIw19REAj8dVYTx6OJGvQ&usqp=CAU - AT: E:\\practice\\Python\\Web_Scrapping\\Dataset1\\                                                                                                                                                     7.jpg\n",
      "SAVED - https://encrypted-tbn0.gstatic.com/images?q=tbn:ANd9GcQb6A-l0mQjmbjz7v4N9v0e-bHo1hXbuzhQ9w&usqp=CAU - AT: E:\\practice\\Python\\Web_Scrapping\\Dataset1\\                                                                                                                                                     8.jpg\n",
      "SAVED - https://encrypted-tbn0.gstatic.com/images?q=tbn:ANd9GcQEW8ll8gaII5O3wZR3qNhwQKSQDECMaAInUw&usqp=CAU - AT: E:\\practice\\Python\\Web_Scrapping\\Dataset1\\                                                                                                                                                     9.jpg\n",
      "SAVED - https://encrypted-tbn0.gstatic.com/images?q=tbn:ANd9GcS7226XIqDT0hNWg08o2kApRqwtkaT3lznrJw&usqp=CAU - AT: E:\\practice\\Python\\Web_Scrapping\\Dataset1\\                                                                                                                                                    10.jpg\n",
      "SAVED - https://c1.wallpaperflare.com/preview/500/434/322/car-concept-vehicle-auto-speed-transportation.jpg - AT: E:\\practice\\Python\\Web_Scrapping\\Dataset1\\                                                                                                                                                    11.jpg\n",
      "SAVED - https://encrypted-tbn0.gstatic.com/images?q=tbn:ANd9GcTyUMkhXy6PtEiiNwdT61jwOhBoirLNQbtRGA&usqp=CAU - AT: E:\\practice\\Python\\Web_Scrapping\\Dataset1\\                                                                                                                                                    12.jpg\n",
      "SAVED - https://encrypted-tbn0.gstatic.com/images?q=tbn:ANd9GcTMgb2A-ESBdD2UjSHnZHx18KEUtihVXSz0eQ&usqp=CAU - AT: E:\\practice\\Python\\Web_Scrapping\\Dataset1\\                                                                                                                                                    13.jpg\n",
      "SAVED - https://c0.anyrgb.com/images/910/857/car-chrome-land-vehicle-retro-styled-headlight-shiny-classic-luxury-old-fashioned-transportation-thumbnail.jpg - AT: E:\\practice\\Python\\Web_Scrapping\\Dataset1\\                                                                                                                                                    14.jpg\n",
      "SAVED - https://encrypted-tbn0.gstatic.com/images?q=tbn:ANd9GcQTkGpNHl-0sQUpUpG67b1c9NnFBf0DKAwsMg&usqp=CAU - AT: E:\\practice\\Python\\Web_Scrapping\\Dataset1\\                                                                                                                                                    15.jpg\n",
      "SAVED - https://encrypted-tbn0.gstatic.com/images?q=tbn:ANd9GcRdiyc0n_BgqmCPnE_XJAJUBo51krrbXtVlxw&usqp=CAU - AT: E:\\practice\\Python\\Web_Scrapping\\Dataset1\\                                                                                                                                                    16.jpg\n",
      "SAVED - https://encrypted-tbn0.gstatic.com/images?q=tbn:ANd9GcRSHlOWRIyeizL7BaX8nT6NGUeAL9Ir3UReqg&usqp=CAU - AT: E:\\practice\\Python\\Web_Scrapping\\Dataset1\\                                                                                                                                                    17.jpg\n",
      "SAVED - https://encrypted-tbn0.gstatic.com/images?q=tbn:ANd9GcSG2IIkbYO5mY6HB1kJLd4oNmTaCPPH5sHnlg&usqp=CAU - AT: E:\\practice\\Python\\Web_Scrapping\\Dataset1\\                                                                                                                                                    18.jpg\n",
      "SAVED - https://encrypted-tbn0.gstatic.com/images?q=tbn:ANd9GcTqn37aoH8RohVi_NJwCxVZjmHT-hjn9k609w&usqp=CAU - AT: E:\\practice\\Python\\Web_Scrapping\\Dataset1\\                                                                                                                                                    19.jpg\n",
      "SAVED - https://encrypted-tbn0.gstatic.com/images?q=tbn:ANd9GcSo2vWFB5E3EwNrW71hiSAfYmCEm-k03Z03RQ&usqp=CAU - AT: E:\\practice\\Python\\Web_Scrapping\\Dataset1\\                                                                                                                                                    20.jpg\n",
      "SAVED - https://encrypted-tbn0.gstatic.com/images?q=tbn:ANd9GcQ5XwYiiqszvwtWBLFtSDxgc088_UxKn8RBPw&usqp=CAU - AT: E:\\practice\\Python\\Web_Scrapping\\Dataset1\\                                                                                                                                                    21.jpg\n",
      "SAVED - https://encrypted-tbn0.gstatic.com/images?q=tbn:ANd9GcT-3dikHqtnW835G--NKWr99CCCVM7FzkI73A&usqp=CAU - AT: E:\\practice\\Python\\Web_Scrapping\\Dataset1\\                                                                                                                                                    22.jpg\n",
      "SAVED - https://encrypted-tbn0.gstatic.com/images?q=tbn:ANd9GcQ1zdQFyRd6UJsvial9q_sNdds8FIhPpuG8DA&usqp=CAU - AT: E:\\practice\\Python\\Web_Scrapping\\Dataset1\\                                                                                                                                                    23.jpg\n",
      "SAVED - https://encrypted-tbn0.gstatic.com/images?q=tbn:ANd9GcRG-lEsxFwD37GD4GxcGQ9giR_dVkLQqDKHjg&usqp=CAU - AT: E:\\practice\\Python\\Web_Scrapping\\Dataset1\\                                                                                                                                                    24.jpg\n",
      "SAVED - https://encrypted-tbn0.gstatic.com/images?q=tbn:ANd9GcQoQtKfElIyvGxmQh4R9dfsGHthMXs7wz607w&usqp=CAU - AT: E:\\practice\\Python\\Web_Scrapping\\Dataset1\\                                                                                                                                                    25.jpg\n",
      "SAVED - https://encrypted-tbn0.gstatic.com/images?q=tbn:ANd9GcSgwWc1NLVgpom4SlAVmuvMJ4g-_JsI4x2R_Q&usqp=CAU - AT: E:\\practice\\Python\\Web_Scrapping\\Dataset1\\                                                                                                                                                    26.jpg\n"
     ]
    },
    {
     "name": "stdout",
     "output_type": "stream",
     "text": [
      "SAVED - https://encrypted-tbn0.gstatic.com/images?q=tbn:ANd9GcQfY-GQ5ARqPTmB3Ia8OmekL81LfHhcBZD37Q&usqp=CAU - AT: E:\\practice\\Python\\Web_Scrapping\\Dataset1\\                                                                                                                                                    27.jpg\n",
      "SAVED - https://encrypted-tbn0.gstatic.com/images?q=tbn:ANd9GcTOlkAh6prTwC9MEKtZJbinC6Ce_4zI5UHOkw&usqp=CAU - AT: E:\\practice\\Python\\Web_Scrapping\\Dataset1\\                                                                                                                                                    28.jpg\n",
      "SAVED - https://encrypted-tbn0.gstatic.com/images?q=tbn:ANd9GcQgp1QN-QeG7ipMLuj6m_C8vO6chQ4m6eciew&usqp=CAU - AT: E:\\practice\\Python\\Web_Scrapping\\Dataset1\\                                                                                                                                                    29.jpg\n",
      "ERROR - COULD NOT SAVE https://upload.wikimedia.org/wikipedia/commons/8/8a/Blue_old_car.svg - cannot identify image file <_io.BytesIO object at 0x00000251C7A9DA40>\n",
      "SAVED - https://encrypted-tbn0.gstatic.com/images?q=tbn:ANd9GcQqFvD0SeXsTEP5AA2ikZHP2C18f2dvgwpBDQ&usqp=CAU - AT: E:\\practice\\Python\\Web_Scrapping\\Dataset1\\                                                                                                                                                    31.jpg\n",
      "SAVED - https://encrypted-tbn0.gstatic.com/images?q=tbn:ANd9GcSt0JCA8nbpexMZ5dqxE4mIngNKGAhwzxfgOg&usqp=CAU - AT: E:\\practice\\Python\\Web_Scrapping\\Dataset1\\                                                                                                                                                    32.jpg\n",
      "SAVED - https://encrypted-tbn0.gstatic.com/images?q=tbn:ANd9GcQ6LewbEcVGxQAL1sOHium8ldWuvLhrusb0FA&usqp=CAU - AT: E:\\practice\\Python\\Web_Scrapping\\Dataset1\\                                                                                                                                                    33.jpg\n",
      "SAVED - https://encrypted-tbn0.gstatic.com/images?q=tbn:ANd9GcSzJzJ00oKqXPNHH60OVH3qPZTeumpfNGmnWQ&usqp=CAU - AT: E:\\practice\\Python\\Web_Scrapping\\Dataset1\\                                                                                                                                                    34.jpg\n",
      "SAVED - https://c1.wallpaperflare.com/preview/200/862/475/black-background-audi.jpg - AT: E:\\practice\\Python\\Web_Scrapping\\Dataset1\\                                                                                                                                                    35.jpg\n",
      "SAVED - https://encrypted-tbn0.gstatic.com/images?q=tbn:ANd9GcRVltr7cSsnq7allOMR7IbIOr7ZVt24jKq6Nw&usqp=CAU - AT: E:\\practice\\Python\\Web_Scrapping\\Dataset1\\                                                                                                                                                    36.jpg\n",
      "SAVED - https://encrypted-tbn0.gstatic.com/images?q=tbn:ANd9GcT7cciTZB5hKuKNykWfZkek5RAewtpT1qdLrg&usqp=CAU - AT: E:\\practice\\Python\\Web_Scrapping\\Dataset1\\                                                                                                                                                    37.jpg\n",
      "SAVED - https://encrypted-tbn0.gstatic.com/images?q=tbn:ANd9GcSZZDFsjOI1QeQ0JsklJDH-xi5yIeg3ZHyXXA&usqp=CAU - AT: E:\\practice\\Python\\Web_Scrapping\\Dataset1\\                                                                                                                                                    38.jpg\n",
      "SAVED - https://encrypted-tbn0.gstatic.com/images?q=tbn:ANd9GcTonuVHSY9bH8shoVVGw9ou2hhZSqid9fcOAQ&usqp=CAU - AT: E:\\practice\\Python\\Web_Scrapping\\Dataset1\\                                                                                                                                                    39.jpg\n",
      "SAVED - https://encrypted-tbn0.gstatic.com/images?q=tbn:ANd9GcTLIK-K7nBD9oGP0XCmGqbyr-4gegDvqf6MvA&usqp=CAU - AT: E:\\practice\\Python\\Web_Scrapping\\Dataset1\\                                                                                                                                                    40.jpg\n",
      "SAVED - https://encrypted-tbn0.gstatic.com/images?q=tbn:ANd9GcTcRuqdcFp83VarUgUtJpwwHiI0o38Mrrbd8g&usqp=CAU - AT: E:\\practice\\Python\\Web_Scrapping\\Dataset1\\                                                                                                                                                    41.jpg\n",
      "SAVED - https://encrypted-tbn0.gstatic.com/images?q=tbn:ANd9GcTOTOs3yBVG0p1u29ZZsdaOWl_6M4TeIaKfWw&usqp=CAU - AT: E:\\practice\\Python\\Web_Scrapping\\Dataset1\\                                                                                                                                                    42.jpg\n",
      "SAVED - https://encrypted-tbn0.gstatic.com/images?q=tbn:ANd9GcRCMDIk9_ttZRwCy-LjtbT92UuASUQpdtBwCA&usqp=CAU - AT: E:\\practice\\Python\\Web_Scrapping\\Dataset1\\                                                                                                                                                    43.jpg\n",
      "SAVED - https://c0.wallpaperflare.com/preview/1002/1002/480/car-concept-vehicle-auto.jpg - AT: E:\\practice\\Python\\Web_Scrapping\\Dataset1\\                                                                                                                                                    44.jpg\n",
      "SAVED - https://encrypted-tbn0.gstatic.com/images?q=tbn:ANd9GcSCc3peGDkcl9WPntLAhU5wVfkPAk6nAfqfyA&usqp=CAU - AT: E:\\practice\\Python\\Web_Scrapping\\Dataset1\\                                                                                                                                                    45.jpg\n",
      "SAVED - https://encrypted-tbn0.gstatic.com/images?q=tbn:ANd9GcQZG3IDL7v7KBA5eoi4shxD-2_ttUgpXEngzw&usqp=CAU - AT: E:\\practice\\Python\\Web_Scrapping\\Dataset1\\                                                                                                                                                    46.jpg\n",
      "SAVED - https://encrypted-tbn0.gstatic.com/images?q=tbn:ANd9GcSlO_lVRm1IfsT8J9nb9hGrDr897mmDHIT8-g&usqp=CAU - AT: E:\\practice\\Python\\Web_Scrapping\\Dataset1\\                                                                                                                                                    47.jpg\n",
      "SAVED - https://encrypted-tbn0.gstatic.com/images?q=tbn:ANd9GcSJkL8aX1XL2DIf5Utq597XH5g7lsgxPmCy3A&usqp=CAU - AT: E:\\practice\\Python\\Web_Scrapping\\Dataset1\\                                                                                                                                                    48.jpg\n",
      "SAVED - https://encrypted-tbn0.gstatic.com/images?q=tbn:ANd9GcQM73UAjsufBY_lsP-zfIf6HHljwqfU0qt68g&usqp=CAU - AT: E:\\practice\\Python\\Web_Scrapping\\Dataset1\\                                                                                                                                                    49.jpg\n",
      "SAVED - https://encrypted-tbn0.gstatic.com/images?q=tbn:ANd9GcSHtR7PjDhMKTAIZGFQ9zo4_1L1pbsdch6rcw&usqp=CAU - AT: E:\\practice\\Python\\Web_Scrapping\\Dataset1\\                                                                                                                                                    50.jpg\n",
      "SAVED - https://encrypted-tbn0.gstatic.com/images?q=tbn:ANd9GcQgh8ME5vcXfYm4b0afw967CJSR9--W4S_Sow&usqp=CAU - AT: E:\\practice\\Python\\Web_Scrapping\\Dataset1\\                                                                                                                                                    51.jpg\n",
      "SAVED - https://encrypted-tbn0.gstatic.com/images?q=tbn:ANd9GcTpOtuRBJodg9GF5SQ6UeCGWR_0Rb1u-nbPJg&usqp=CAU - AT: E:\\practice\\Python\\Web_Scrapping\\Dataset1\\                                                                                                                                                    52.jpg\n",
      "SAVED - https://encrypted-tbn0.gstatic.com/images?q=tbn:ANd9GcRtm6ZxqaQ2T6EeRyIjMUsAk3YmtjP_xOSInw&usqp=CAU - AT: E:\\practice\\Python\\Web_Scrapping\\Dataset1\\                                                                                                                                                    53.jpg\n"
     ]
    },
    {
     "name": "stdout",
     "output_type": "stream",
     "text": [
      "SAVED - https://encrypted-tbn0.gstatic.com/images?q=tbn:ANd9GcQFt-ilMvCXERqMfE83qDj4y1APRJhjcebLsw&usqp=CAU - AT: E:\\practice\\Python\\Web_Scrapping\\Dataset1\\                                                                                                                                                    54.jpg\n",
      "SAVED - https://encrypted-tbn0.gstatic.com/images?q=tbn:ANd9GcS06L-PQmjQ1Q0CKqFHcDtKzF9dAM5GT3FNdA&usqp=CAU - AT: E:\\practice\\Python\\Web_Scrapping\\Dataset1\\                                                                                                                                                    55.jpg\n",
      "SAVED - https://encrypted-tbn0.gstatic.com/images?q=tbn:ANd9GcTwN6udLpGpLU9RR4usrAfevQgfkxatMRsnAg&usqp=CAU - AT: E:\\practice\\Python\\Web_Scrapping\\Dataset1\\                                                                                                                                                    56.jpg\n",
      "SAVED - https://encrypted-tbn0.gstatic.com/images?q=tbn:ANd9GcStCJz7UwXRQER_P9vE03JXPmOwSzCanhvmHw&usqp=CAU - AT: E:\\practice\\Python\\Web_Scrapping\\Dataset1\\                                                                                                                                                    57.jpg\n",
      "SAVED - https://encrypted-tbn0.gstatic.com/images?q=tbn:ANd9GcSRIWjAPn2IwfD2iPh6I-cTHnXeRsTQeAjaJg&usqp=CAU - AT: E:\\practice\\Python\\Web_Scrapping\\Dataset1\\                                                                                                                                                    58.jpg\n",
      "SAVED - https://freesvg.org/img/travel-car-top_view_monsterbrain_remix.png - AT: E:\\practice\\Python\\Web_Scrapping\\Dataset1\\                                                                                                                                                    59.jpg\n",
      "SAVED - https://encrypted-tbn0.gstatic.com/images?q=tbn:ANd9GcT5KxhJK3S5ZlNn2-yp6vkkJOxZ40Jk7iTbzQ&usqp=CAU - AT: E:\\practice\\Python\\Web_Scrapping\\Dataset1\\                                                                                                                                                    60.jpg\n",
      "SAVED - https://encrypted-tbn0.gstatic.com/images?q=tbn:ANd9GcSf6zTOGHGq_W1AIq_PU9apABdTk-DWHOpuZA&usqp=CAU - AT: E:\\practice\\Python\\Web_Scrapping\\Dataset1\\                                                                                                                                                    61.jpg\n",
      "SAVED - https://encrypted-tbn0.gstatic.com/images?q=tbn:ANd9GcSJdazDUg49DKObuM-yE3Cc61vfeY-KD9qr5w&usqp=CAU - AT: E:\\practice\\Python\\Web_Scrapping\\Dataset1\\                                                                                                                                                    62.jpg\n",
      "SAVED - https://encrypted-tbn0.gstatic.com/images?q=tbn:ANd9GcR0p5OIdr2Hjm7U3XW7B9lI4RwZ3BMbMGaPlw&usqp=CAU - AT: E:\\practice\\Python\\Web_Scrapping\\Dataset1\\                                                                                                                                                    63.jpg\n",
      "SAVED - https://encrypted-tbn0.gstatic.com/images?q=tbn:ANd9GcQ9iQlnlV0wVgR3jE0rMUHqG7cNHPANbHw9AQ&usqp=CAU - AT: E:\\practice\\Python\\Web_Scrapping\\Dataset1\\                                                                                                                                                    64.jpg\n",
      "SAVED - https://p1.pxfuel.com/preview/58/533/191/bridal-car-wedding-limousine-spotlight-royalty-free-thumbnail.jpg - AT: E:\\practice\\Python\\Web_Scrapping\\Dataset1\\                                                                                                                                                    65.jpg\n",
      "SAVED - https://encrypted-tbn0.gstatic.com/images?q=tbn:ANd9GcTbQ-rzUmHOQfZ02WOda2OiyD8RCRZyRfuMKg&usqp=CAU - AT: E:\\practice\\Python\\Web_Scrapping\\Dataset1\\                                                                                                                                                    66.jpg\n",
      "SAVED - https://encrypted-tbn0.gstatic.com/images?q=tbn:ANd9GcR_ZNKolr_7qfJCmoldiB9fDghs7YOSqoU1Cw&usqp=CAU - AT: E:\\practice\\Python\\Web_Scrapping\\Dataset1\\                                                                                                                                                    67.jpg\n",
      "SAVED - https://encrypted-tbn0.gstatic.com/images?q=tbn:ANd9GcTnNGFajOR1aOjnYEWYObrSGl1lpRRH5YcgkQ&usqp=CAU - AT: E:\\practice\\Python\\Web_Scrapping\\Dataset1\\                                                                                                                                                    68.jpg\n",
      "SAVED - https://encrypted-tbn0.gstatic.com/images?q=tbn:ANd9GcQSpvTj38P2TtpekYquuPzbQ7BnONDBmPeKsw&usqp=CAU - AT: E:\\practice\\Python\\Web_Scrapping\\Dataset1\\                                                                                                                                                    69.jpg\n",
      "SAVED - https://encrypted-tbn0.gstatic.com/images?q=tbn:ANd9GcRygAWlcSVDPEBiI98jGr7o8XuwUSyI2iKA7A&usqp=CAU - AT: E:\\practice\\Python\\Web_Scrapping\\Dataset1\\                                                                                                                                                    70.jpg\n",
      "SAVED - https://encrypted-tbn0.gstatic.com/images?q=tbn:ANd9GcRqe_0X8aOvO6Ua_Y3H_gXj56Wg1nt8Hyx0kQ&usqp=CAU - AT: E:\\practice\\Python\\Web_Scrapping\\Dataset1\\                                                                                                                                                    71.jpg\n",
      "SAVED - https://encrypted-tbn0.gstatic.com/images?q=tbn:ANd9GcSg8WWF50ZZ3MZCi1Y5lUoWNM5AtnMl-iKEIg&usqp=CAU - AT: E:\\practice\\Python\\Web_Scrapping\\Dataset1\\                                                                                                                                                    72.jpg\n",
      "SAVED - https://encrypted-tbn0.gstatic.com/images?q=tbn:ANd9GcQKuqlaErP-DMdaZAtD046zmHE_SUGQZR8FGQ&usqp=CAU - AT: E:\\practice\\Python\\Web_Scrapping\\Dataset1\\                                                                                                                                                    73.jpg\n",
      "SAVED - https://encrypted-tbn0.gstatic.com/images?q=tbn:ANd9GcTu2DFDRsjgA0L_hn4kB5uB6rzQkRvN9kVJyw&usqp=CAU - AT: E:\\practice\\Python\\Web_Scrapping\\Dataset1\\                                                                                                                                                    74.jpg\n",
      "SAVED - https://farm3.static.flickr.com/2342/2495852943_8b5562b2b7.jpg - AT: E:\\practice\\Python\\Web_Scrapping\\Dataset1\\                                                                                                                                                    75.jpg\n",
      "SAVED - https://encrypted-tbn0.gstatic.com/images?q=tbn:ANd9GcSs8dnTOw6K3Ip0JQVX6EVfvFAuq4i1x1MVdg&usqp=CAU - AT: E:\\practice\\Python\\Web_Scrapping\\Dataset1\\                                                                                                                                                    76.jpg\n",
      "SAVED - https://encrypted-tbn0.gstatic.com/images?q=tbn:ANd9GcTq2M3LzLRv3SEV7Jyz8RKJVTeCo4R26y_T7Q&usqp=CAU - AT: E:\\practice\\Python\\Web_Scrapping\\Dataset1\\                                                                                                                                                    77.jpg\n",
      "SAVED - https://encrypted-tbn0.gstatic.com/images?q=tbn:ANd9GcQOyUbIPqvBTFJwQw93US7WS8WTB1b3EXyK-A&usqp=CAU - AT: E:\\practice\\Python\\Web_Scrapping\\Dataset1\\                                                                                                                                                    78.jpg\n",
      "SAVED - https://encrypted-tbn0.gstatic.com/images?q=tbn:ANd9GcTZwqU3is0lCfPptT4iIkqjqIeEMrrWqDWYXQ&usqp=CAU - AT: E:\\practice\\Python\\Web_Scrapping\\Dataset1\\                                                                                                                                                    79.jpg\n",
      "SAVED - https://encrypted-tbn0.gstatic.com/images?q=tbn:ANd9GcSY6ti_SOW8XJSJicj2Jedx5AAj_gjEDW1jVQ&usqp=CAU - AT: E:\\practice\\Python\\Web_Scrapping\\Dataset1\\                                                                                                                                                    80.jpg\n"
     ]
    },
    {
     "name": "stdout",
     "output_type": "stream",
     "text": [
      "SAVED - https://encrypted-tbn0.gstatic.com/images?q=tbn:ANd9GcSgjXR8MH1fx3DWVau4f4cV9tlKPcnjDR2m0g&usqp=CAU - AT: E:\\practice\\Python\\Web_Scrapping\\Dataset1\\                                                                                                                                                    81.jpg\n",
      "SAVED - https://encrypted-tbn0.gstatic.com/images?q=tbn:ANd9GcQzsPj5xhh1TLBZ0ktS66BWe2saYiO8eKYgBw&usqp=CAU - AT: E:\\practice\\Python\\Web_Scrapping\\Dataset1\\                                                                                                                                                    82.jpg\n",
      "SAVED - https://encrypted-tbn0.gstatic.com/images?q=tbn:ANd9GcSe48Ga_hMR0Ezmo5H2ooD88l4KMyutBPeENQ&usqp=CAU - AT: E:\\practice\\Python\\Web_Scrapping\\Dataset1\\                                                                                                                                                    83.jpg\n",
      "SAVED - https://encrypted-tbn0.gstatic.com/images?q=tbn:ANd9GcTBx4peMBHm4vKOjWB8_o5PX6p6qF-g6VpcOA&usqp=CAU - AT: E:\\practice\\Python\\Web_Scrapping\\Dataset1\\                                                                                                                                                    84.jpg\n",
      "SAVED - https://p0.pikist.com/photos/690/851/auto-oldtimer-classic-automotive-vehicles-pkw-passengers-cars-vintage-car-automobile-cool-figure.jpg - AT: E:\\practice\\Python\\Web_Scrapping\\Dataset1\\                                                                                                                                                    85.jpg\n",
      "SAVED - https://encrypted-tbn0.gstatic.com/images?q=tbn:ANd9GcRG2auiSP__KDewaQXAreqvhIm8hT7wrF5j3g&usqp=CAU - AT: E:\\practice\\Python\\Web_Scrapping\\Dataset1\\                                                                                                                                                    86.jpg\n",
      "SAVED - https://encrypted-tbn0.gstatic.com/images?q=tbn:ANd9GcTf38bZ_OWUGdS-__9-xw5acH2jrz69wWtezw&usqp=CAU - AT: E:\\practice\\Python\\Web_Scrapping\\Dataset1\\                                                                                                                                                    87.jpg\n",
      "SAVED - https://encrypted-tbn0.gstatic.com/images?q=tbn:ANd9GcTx_XSsPo5Cd8J2PlGt0PZvmvW5TRZ73rDNYQ&usqp=CAU - AT: E:\\practice\\Python\\Web_Scrapping\\Dataset1\\                                                                                                                                                    88.jpg\n",
      "SAVED - https://upload.wikimedia.org/wikipedia/commons/6/61/Cars_movie%27s_car.jpg - AT: E:\\practice\\Python\\Web_Scrapping\\Dataset1\\                                                                                                                                                    89.jpg\n"
     ]
    }
   ],
   "source": [
    "os.chdir('E:/practice/Python/Web_Scrapping/Dataset1')\n",
    "baseDir=os.getcwd()\n",
    "\n",
    "for i, url in enumerate(img_urls):\n",
    "    file_name = f\"{i:150}.jpg\"    \n",
    "    try:\n",
    "        image_content = requests.get(url).content\n",
    "\n",
    "    except Exception as e:\n",
    "        print(f\"ERROR - COULD NOT DOWNLOAD {url} - {e}\")\n",
    "\n",
    "    try:\n",
    "        image_file = io.BytesIO(image_content)\n",
    "        image = Image.open(image_file).convert('RGB')\n",
    "        \n",
    "        file_path = os.path.join(baseDir, file_name)\n",
    "        \n",
    "        with open(file_path, 'wb') as f:\n",
    "            image.save(f, \"JPEG\", quality=85)\n",
    "        print(f\"SAVED - {url} - AT: {file_path}\")\n",
    "    except Exception as e:\n",
    "        print(f\"ERROR - COULD NOT SAVE {url} - {e}\")"
   ]
  },
  {
   "cell_type": "code",
   "execution_count": null,
   "id": "referenced-people",
   "metadata": {},
   "outputs": [],
   "source": []
  },
  {
   "cell_type": "code",
   "execution_count": null,
   "id": "institutional-performance",
   "metadata": {},
   "outputs": [],
   "source": []
  },
  {
   "cell_type": "code",
   "execution_count": null,
   "id": "french-chuck",
   "metadata": {},
   "outputs": [],
   "source": []
  },
  {
   "cell_type": "code",
   "execution_count": null,
   "id": "sticky-apparel",
   "metadata": {},
   "outputs": [],
   "source": []
  }
 ],
 "metadata": {
  "kernelspec": {
   "display_name": "Python 3",
   "language": "python",
   "name": "python3"
  },
  "language_info": {
   "codemirror_mode": {
    "name": "ipython",
    "version": 3
   },
   "file_extension": ".py",
   "mimetype": "text/x-python",
   "name": "python",
   "nbconvert_exporter": "python",
   "pygments_lexer": "ipython3",
   "version": "3.9.1"
  }
 },
 "nbformat": 4,
 "nbformat_minor": 5
}
