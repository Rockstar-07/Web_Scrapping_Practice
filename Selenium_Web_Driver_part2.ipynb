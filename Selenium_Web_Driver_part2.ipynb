{
 "cells": [
  {
   "cell_type": "markdown",
   "id": "extensive-ocean",
   "metadata": {},
   "source": [
    "# Import all required libraries"
   ]
  },
  {
   "cell_type": "code",
   "execution_count": 30,
   "id": "white-hunter",
   "metadata": {},
   "outputs": [],
   "source": [
    "\n",
    "import os\n",
    "import selenium\n",
    "from selenium import webdriver\n",
    "import time\n",
    "from PIL import Image\n",
    "import io\n",
    "import requests\n",
    "from webdriver_manager.chrome import ChromeDriverManager\n"
   ]
  },
  {
   "cell_type": "code",
   "execution_count": 31,
   "id": "federal-stuart",
   "metadata": {},
   "outputs": [],
   "source": [
    "os.chdir('E:/practice/Python/Web_Scrapping')"
   ]
  },
  {
   "cell_type": "markdown",
   "id": "greatest-executive",
   "metadata": {},
   "source": [
    "# Install Chrome Driver"
   ]
  },
  {
   "cell_type": "code",
   "execution_count": 32,
   "id": "incorporated-dynamics",
   "metadata": {},
   "outputs": [
    {
     "name": "stderr",
     "output_type": "stream",
     "text": [
      "[WDM] - ====== WebDriver manager ======\n"
     ]
    },
    {
     "name": "stdout",
     "output_type": "stream",
     "text": [
      "\n",
      "\n"
     ]
    },
    {
     "name": "stderr",
     "output_type": "stream",
     "text": [
      "[WDM] - Current google-chrome version is 89.0.4389\n",
      "[WDM] - Get LATEST driver version for 89.0.4389\n",
      "[WDM] - Driver [C:\\Users\\HP\\.wdm\\drivers\\chromedriver\\win32\\89.0.4389.23\\chromedriver.exe] found in cache\n"
     ]
    }
   ],
   "source": [
    "\n",
    "opts=webdriver.ChromeOptions()\n",
    "opts.headless=True\n",
    "\n",
    "driver = webdriver.Chrome(ChromeDriverManager().install(),options=opts)\n"
   ]
  },
  {
   "cell_type": "markdown",
   "id": "strange-romantic",
   "metadata": {},
   "source": [
    "# Search URL"
   ]
  },
  {
   "cell_type": "code",
   "execution_count": 33,
   "id": "difficult-calcium",
   "metadata": {},
   "outputs": [],
   "source": [
    "\n",
    "search_url = \"https://www.google.com/search?q={q}&tbm=isch&tbs=sur%3Afc&hl=en&ved=0CAIQpwVqFwoTCKCa1c6s4-oCFQAAAAAdAAAAABAC&biw=1251&bih=568\"\n",
    "driver.get(search_url.format(q='Car'))\n"
   ]
  },
  {
   "cell_type": "markdown",
   "id": "greenhouse-river",
   "metadata": {},
   "source": [
    "# Write a function to take cursor to end of the page"
   ]
  },
  {
   "cell_type": "code",
   "execution_count": 34,
   "id": "clean-metropolitan",
   "metadata": {},
   "outputs": [],
   "source": [
    "def scroll_to_end(driver):\n",
    "    driver.execute_script(\"window,scrollTo(0, document.body.scrollHeight);\")\n",
    "    time.sleep(3)#sleep between interactions"
   ]
  },
  {
   "cell_type": "markdown",
   "id": "disturbed-portal",
   "metadata": {},
   "source": [
    "# Write a function to get url of each image"
   ]
  },
  {
   "cell_type": "code",
   "execution_count": 35,
   "id": "civil-southeast",
   "metadata": {},
   "outputs": [],
   "source": [
    "#no licesnse issues\n",
    "\n",
    "def getImageUrls(name,totalImgs,driver):\n",
    "    \n",
    "    search_url = \"https://www.google.com/search?q={q}&tbm=isch&tbs=sur%3Afc&hl=en&ved=0CAIQpwVqFwoTCKCa1c6s4-oCFQAAAAAdAAAAABAC&biw=1251&bih=568\"\n",
    "    driver.get(search_url.format(q=name))\n",
    "\n",
    "    img_urls = set()\n",
    "    img_count = 0\n",
    "    results_start = 0  \n",
    "    \n",
    "    while(img_count<totalImgs): #Extract actual images now\n",
    "        \n",
    "        scroll_to_end(driver)\n",
    "        \n",
    "        thumbnail_results = driver.find_elements_by_xpath(\"//img[contains(@class,'Q4LuWd')]\")\n",
    "        totalResults=len(thumbnail_results)\n",
    "        print(f\"Found: {totalResults} search results. Extracting links from {results_start}:{totalResults}\")\n",
    "        \n",
    "        for img in thumbnail_results[results_start:totalResults]:\n",
    "            \n",
    "            img.click()\n",
    "            time.sleep(2)\n",
    "            actual_images = driver.find_elements_by_css_selector('img.n3VNCb')\n",
    "            for actual_image in actual_images:\n",
    "                if actual_image.get_attribute('src') and 'https' in actual_image.get_attribute('src'):\n",
    "                    img_urls.add(actual_image.get_attribute('src'))\n",
    "            \n",
    "            img_count=len(img_urls)\n",
    "            \n",
    "            if img_count >= totalImgs:\n",
    "                print(f\"Found: {img_count} image links\")\n",
    "                break\n",
    "            else:\n",
    "                print(\"Found:\", img_count, \"looking for more image links ...\")                \n",
    "                load_more_button = driver.find_element_by_css_selector(\".mye4qd\")\n",
    "                driver.execute_script(\"document.querySelector('.mye4qd').click();\")\n",
    "                results_start = len(thumbnail_results)\n",
    "    return img_urls\n",
    "        \n",
    "            "
   ]
  },
  {
   "cell_type": "markdown",
   "id": "sound-invitation",
   "metadata": {},
   "source": [
    "# Write a function to download each Image"
   ]
  },
  {
   "cell_type": "code",
   "execution_count": 36,
   "id": "western-routine",
   "metadata": {},
   "outputs": [],
   "source": [
    "\n",
    "def downloadImages(folder_path,file_name,url):\n",
    "    try:\n",
    "        image_content = requests.get(url).content\n",
    "\n",
    "    except Exception as e:\n",
    "        print(f\"ERROR - COULD NOT DOWNLOAD {url} - {e}\")\n",
    "\n",
    "    try:\n",
    "        image_file = io.BytesIO(image_content)\n",
    "        image = Image.open(image_file).convert('RGB')\n",
    "        \n",
    "        file_path = os.path.join(folder_path, file_name)\n",
    "        \n",
    "        with open(file_path, 'wb') as f:\n",
    "            image.save(f, \"JPEG\", quality=85)\n",
    "        print(f\"SAVED - {url} - AT: {file_path}\")\n",
    "    except Exception as e:\n",
    "        print(f\"ERROR - COULD NOT SAVE {url} - {e}\")"
   ]
  },
  {
   "cell_type": "markdown",
   "id": "collaborative-converter",
   "metadata": {},
   "source": [
    "# Write a function to save each Image in Destination directory\n"
   ]
  },
  {
   "cell_type": "code",
   "execution_count": 37,
   "id": "cordless-camcorder",
   "metadata": {},
   "outputs": [
    {
     "name": "stdout",
     "output_type": "stream",
     "text": [
      "Current Path ./Dataset2/Car\n",
      "Found: 100 search results. Extracting links from 0:100\n",
      "Found: 0 looking for more image links ...\n",
      "Found: 0 looking for more image links ...\n",
      "Found: 0 looking for more image links ...\n",
      "Found: 0 looking for more image links ...\n",
      "Found: 1 looking for more image links ...\n",
      "Found: 2 looking for more image links ...\n",
      "Found: 3 looking for more image links ...\n",
      "Found: 3 looking for more image links ...\n",
      "Found: 3 looking for more image links ...\n",
      "Found: 4 looking for more image links ...\n",
      "Found: 5 image links\n",
      "totalLinks {'https://freesvg.org/img/SmallCar-v4.png', 'https://cdn.pixabay.com/photo/2017/02/01/12/23/car-2030056_960_720.png', 'https://freesvg.org/img/carsymbol5a.png', 'https://c1.wallpaperflare.com/preview/950/761/136/car-concept-vehicle-auto-speed-transportation.jpg', 'https://upload.wikimedia.org/wikipedia/commons/thumb/f/f6/Car.svg/1280px-Car.svg.png'}\n",
      "SAVED - https://freesvg.org/img/SmallCar-v4.png - AT: ./Dataset2/Car\\                                                                                                                                                     0.jpg\n",
      "SAVED - https://cdn.pixabay.com/photo/2017/02/01/12/23/car-2030056_960_720.png - AT: ./Dataset2/Car\\                                                                                                                                                     1.jpg\n",
      "SAVED - https://freesvg.org/img/carsymbol5a.png - AT: ./Dataset2/Car\\                                                                                                                                                     2.jpg\n",
      "SAVED - https://c1.wallpaperflare.com/preview/950/761/136/car-concept-vehicle-auto-speed-transportation.jpg - AT: ./Dataset2/Car\\                                                                                                                                                     3.jpg\n",
      "SAVED - https://upload.wikimedia.org/wikipedia/commons/thumb/f/f6/Car.svg/1280px-Car.svg.png - AT: ./Dataset2/Car\\                                                                                                                                                     4.jpg\n",
      "Current Path ./Dataset2/horses\n",
      "Found: 100 search results. Extracting links from 0:100\n",
      "Found: 0 looking for more image links ...\n",
      "Found: 0 looking for more image links ...\n",
      "Found: 0 looking for more image links ...\n",
      "Found: 0 looking for more image links ...\n",
      "Found: 0 looking for more image links ...\n",
      "Found: 0 looking for more image links ...\n",
      "Found: 0 looking for more image links ...\n",
      "Found: 0 looking for more image links ...\n",
      "Found: 0 looking for more image links ...\n",
      "Found: 0 looking for more image links ...\n",
      "Found: 0 looking for more image links ...\n",
      "Found: 0 looking for more image links ...\n",
      "Found: 0 looking for more image links ...\n",
      "Found: 0 looking for more image links ...\n",
      "Found: 0 looking for more image links ...\n",
      "Found: 0 looking for more image links ...\n",
      "Found: 0 looking for more image links ...\n",
      "Found: 0 looking for more image links ...\n",
      "Found: 0 looking for more image links ...\n",
      "Found: 1 looking for more image links ...\n",
      "Found: 2 looking for more image links ...\n",
      "Found: 3 looking for more image links ...\n",
      "Found: 4 looking for more image links ...\n",
      "Found: 5 image links\n",
      "totalLinks {'https://encrypted-tbn0.gstatic.com/images?q=tbn:ANd9GcQ41-xddzAYNzML9S4COHbrGb9MSj-RrGDKvA&usqp=CAU', 'https://encrypted-tbn0.gstatic.com/images?q=tbn:ANd9GcSBlKqCOGkrIDYS5JKjxpf9gwwSPfDKFhwzNQ&usqp=CAU', 'https://encrypted-tbn0.gstatic.com/images?q=tbn:ANd9GcQ8mnVinmUrwgPce0R_fvXmU7-WfqHsCr_cfw&usqp=CAU', 'https://encrypted-tbn0.gstatic.com/images?q=tbn:ANd9GcRU-Jas3ldXtZRQ_RMo-FSW86R_14oEEeszyw&usqp=CAU', 'https://encrypted-tbn0.gstatic.com/images?q=tbn:ANd9GcQu3EJZoWeROy4cRkZTDaFqnRbn2wUUOFoIKA&usqp=CAU'}\n",
      "SAVED - https://encrypted-tbn0.gstatic.com/images?q=tbn:ANd9GcQ41-xddzAYNzML9S4COHbrGb9MSj-RrGDKvA&usqp=CAU - AT: ./Dataset2/horses\\                                                                                                                                                     0.jpg\n",
      "SAVED - https://encrypted-tbn0.gstatic.com/images?q=tbn:ANd9GcSBlKqCOGkrIDYS5JKjxpf9gwwSPfDKFhwzNQ&usqp=CAU - AT: ./Dataset2/horses\\                                                                                                                                                     1.jpg\n",
      "SAVED - https://encrypted-tbn0.gstatic.com/images?q=tbn:ANd9GcQ8mnVinmUrwgPce0R_fvXmU7-WfqHsCr_cfw&usqp=CAU - AT: ./Dataset2/horses\\                                                                                                                                                     2.jpg\n",
      "SAVED - https://encrypted-tbn0.gstatic.com/images?q=tbn:ANd9GcRU-Jas3ldXtZRQ_RMo-FSW86R_14oEEeszyw&usqp=CAU - AT: ./Dataset2/horses\\                                                                                                                                                     3.jpg\n",
      "SAVED - https://encrypted-tbn0.gstatic.com/images?q=tbn:ANd9GcQu3EJZoWeROy4cRkZTDaFqnRbn2wUUOFoIKA&usqp=CAU - AT: ./Dataset2/horses\\                                                                                                                                                     4.jpg\n"
     ]
    }
   ],
   "source": [
    "\n",
    "def saveInDestFolder(searchNames,destDir,totalImgs,driver):\n",
    "    for name in list(searchNames):\n",
    "        path=os.path.join(destDir,name)\n",
    "        if not os.path.isdir(path):\n",
    "            os.mkdir(path)\n",
    "        print('Current Path',path)\n",
    "        totalLinks=getImageUrls(name,totalImgs,driver)\n",
    "        print('totalLinks',totalLinks)\n",
    "\n",
    "        if totalLinks is None:\n",
    "            print('images not found for :',name)\n",
    "            continue\n",
    "        else:\n",
    "            for i, link in enumerate(totalLinks):\n",
    "                file_name = f\"{i:150}.jpg\"\n",
    "                downloadImages(path,file_name,link)\n",
    "            \n",
    "searchNames=['Car','horses'] \n",
    "destDir=f'./Dataset2/'\n",
    "totalImgs=5\n",
    "\n",
    "saveInDestFolder(searchNames,destDir,totalImgs,driver)"
   ]
  },
  {
   "cell_type": "code",
   "execution_count": null,
   "id": "continued-ceramic",
   "metadata": {},
   "outputs": [],
   "source": []
  },
  {
   "cell_type": "code",
   "execution_count": null,
   "id": "lovely-cartridge",
   "metadata": {},
   "outputs": [],
   "source": []
  },
  {
   "cell_type": "code",
   "execution_count": null,
   "id": "japanese-trinidad",
   "metadata": {},
   "outputs": [],
   "source": []
  },
  {
   "cell_type": "code",
   "execution_count": null,
   "id": "violent-gasoline",
   "metadata": {},
   "outputs": [],
   "source": []
  }
 ],
 "metadata": {
  "kernelspec": {
   "display_name": "Python 3",
   "language": "python",
   "name": "python3"
  },
  "language_info": {
   "codemirror_mode": {
    "name": "ipython",
    "version": 3
   },
   "file_extension": ".py",
   "mimetype": "text/x-python",
   "name": "python",
   "nbconvert_exporter": "python",
   "pygments_lexer": "ipython3",
   "version": "3.9.1"
  }
 },
 "nbformat": 4,
 "nbformat_minor": 5
}
